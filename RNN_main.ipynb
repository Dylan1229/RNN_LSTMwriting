{
 "cells": [
  {
   "cell_type": "markdown",
   "metadata": {},
   "source": [
    "# LSTM网络实现RNN写作生成\n",
    "\n",
    "**任务要求：利用LSTM网络实现RNN的莎士比亚风格文本写作生成。**  \n",
    "**数据: shakespeare.txt**"
   ]
  },
  {
   "cell_type": "code",
   "execution_count": 1,
   "metadata": {},
   "outputs": [],
   "source": [
    "import torch\n",
    "import torch.nn as nn\n",
    "from torch.autograd import Variable\n",
    "import unidecode\n",
    "import string\n",
    "import random\n",
    "import time\n",
    "import matplotlib.pyplot as plt\n",
    "%matplotlib inline"
   ]
  },
  {
   "cell_type": "code",
   "execution_count": 2,
   "metadata": {},
   "outputs": [
    {
     "name": "stdout",
     "output_type": "stream",
     "text": [
      "Use GPU: False\n"
     ]
    }
   ],
   "source": [
    "use_gpu = True if torch.cuda.is_available() else False\n",
    "print('Use GPU:', use_gpu)"
   ]
  },
  {
   "cell_type": "markdown",
   "metadata": {},
   "source": [
    "## 1. 加载文本数据\n",
    "\n",
    "加载训练文本数据及字符集"
   ]
  },
  {
   "cell_type": "code",
   "execution_count": 3,
   "metadata": {},
   "outputs": [
    {
     "name": "stdout",
     "output_type": "stream",
     "text": [
      "characters num: 100\n",
      "0123456789abcdefghijklmnopqrstuvwxyzABCDEFGHIJKLMNOPQRSTUVWXYZ!\"#$%&'()*+,-./:;<=>?@[\\]^_`{|}~ \t\n",
      "\r",
      "\u000b",
      "\f",
      "\n",
      "file length: 1018\n"
     ]
    }
   ],
   "source": [
    "all_characters = string.printable\n",
    "n_characters = len(all_characters)\n",
    "print('characters num:', n_characters)\n",
    "print(all_characters)\n",
    "\n",
    "file = unidecode.unidecode(open('./data/english.txt').read())\n",
    "file_len = len(file)\n",
    "print('file length:', file_len)"
   ]
  },
  {
   "cell_type": "markdown",
   "metadata": {},
   "source": [
    "### 随机文本块"
   ]
  },
  {
   "cell_type": "code",
   "execution_count": 4,
   "metadata": {},
   "outputs": [
    {
     "name": "stdout",
     "output_type": "stream",
     "text": [
      "a lot.\n",
      "My favorite gadget is my glass hour.my glass hour is baught from a big shop,it made by wood,glass and drit.looks very cute.i always use my little glasshour to count time,the drit fell down from top ,after,5 munits it is dunk.When as time as a arrow shoot from a bow,my glass hour tell me ;time is money.i should hard to study,who use the value time.\n",
      "My favorite gadget is the campus card, he has the following functions: first of all, he can let the bedroom downstairs door for me to open, seco\n"
     ]
    }
   ],
   "source": [
    "chunk_len = 500\n",
    "#500\n",
    "\n",
    "def random_chunk():\n",
    "    start_index = random.randint(0, file_len - chunk_len)\n",
    "    end_index = start_index + chunk_len + 1\n",
    "    return file[start_index: end_index]\n",
    "\n",
    "print(random_chunk())"
   ]
  },
  {
   "cell_type": "markdown",
   "metadata": {},
   "source": [
    "### 随机数据-标签对"
   ]
  },
  {
   "cell_type": "code",
   "execution_count": 8,
   "metadata": {},
   "outputs": [
    {
     "name": "stdout",
     "output_type": "stream",
     "text": [
      "0123456789abcdefghijklmnopqrstuvwxyzABCDEFGHIJKLMNOPQRSTUVWXYZ!\"#$%&'()*+,-./:;<=>?@[\\]^_`{|}~ \t\n",
      "\r",
      "\u000b",
      "\f",
      "\n",
      "tensor([69, 10, 11, 12, 13, 14, 15, 73, 36, 37, 38, 39, 40, 41, 70, 75])\n"
     ]
    }
   ],
   "source": [
    "def char_tensor(string):\n",
    "    n = len(string)\n",
    "    t = torch.zeros(n).long()\n",
    "    for i in range(n):\n",
    "        t[i] = all_characters.index(string[i])\n",
    "    return Variable(t)\n",
    "print(all_characters)\n",
    "print(char_tensor('(abcdef,ABCDEF).'))"
   ]
  },
  {
   "cell_type": "code",
   "execution_count": 9,
   "metadata": {},
   "outputs": [
    {
     "data": {
      "text/plain": [
       "(tensor([94, 29, 14, 21, 21, 94, 22, 14, 94, 78, 29, 18, 22, 14, 94, 18, 28, 94,\n",
       "         22, 24, 23, 14, 34, 75, 18, 94, 28, 17, 24, 30, 21, 13, 94, 17, 10, 27,\n",
       "         13, 94, 29, 24, 94, 28, 29, 30, 13, 34, 73, 32, 17, 24, 94, 30, 28, 14,\n",
       "         94, 29, 17, 14, 94, 31, 10, 21, 30, 14, 94, 29, 18, 22, 14, 75, 96, 48,\n",
       "         34, 94, 15, 10, 31, 24, 27, 18, 29, 14, 94, 16, 10, 13, 16, 14, 29, 94,\n",
       "         18, 28, 94, 29, 17, 14, 94, 12, 10, 22, 25, 30, 28, 94, 12, 10, 27, 13,\n",
       "         73, 94, 17, 14, 94, 17, 10, 28, 94, 29, 17, 14, 94, 15, 24, 21, 21, 24,\n",
       "         32, 18, 23, 16, 94, 15, 30, 23, 12, 29, 18, 24, 23, 28, 77, 94, 15, 18,\n",
       "         27, 28, 29, 94, 24, 15, 94, 10, 21, 21, 73, 94, 17, 14, 94, 12, 10, 23,\n",
       "         94, 21, 14, 29, 94, 29, 17, 14, 94, 11, 14, 13, 27, 24, 24, 22, 94, 13,\n",
       "         24, 32, 23, 28, 29, 10, 18, 27, 28, 94, 13, 24, 24, 27, 94, 15, 24, 27,\n",
       "         94, 22, 14, 94, 29, 24, 94, 24, 25, 14, 23, 73, 94, 28, 14, 12, 24, 23,\n",
       "         13, 73, 94, 17, 14, 94, 12, 10, 23, 94, 27, 30, 23, 94, 18, 23, 94, 29,\n",
       "         17, 14, 94, 28, 30, 23, 94, 12, 27, 14, 13, 18, 29, 94, 12, 10, 27, 13,\n",
       "         73, 94, 22, 24, 27, 14, 24, 31, 14, 27, 73, 94, 17, 14, 94, 12, 10, 23,\n",
       "         94, 21, 14, 29, 94, 22, 14, 94, 25, 10, 34, 94, 29, 17, 14, 94, 11, 18,\n",
       "         21, 21, 94, 18, 23, 94, 29, 17, 14, 94, 12, 10, 23, 29, 14, 14, 23, 94,\n",
       "         18, 28, 94, 31, 14, 27, 34, 94, 12, 24, 23, 31, 14, 23, 18, 14, 23, 29,\n",
       "         73, 94, 15, 18, 23, 10, 21, 21, 34, 73, 94, 17, 14, 94, 12, 10, 23, 94,\n",
       "         10, 21, 28, 24, 94, 11, 14, 94, 30, 28, 14, 13, 94, 10, 28, 94, 10, 94,\n",
       "         27, 30, 21, 14, 27, 94, 11, 34, 94, 22, 14, 75, 94, 44, 94, 11, 14, 21,\n",
       "         18, 14, 31, 14, 94, 29, 17, 10, 29, 94, 23, 24, 29, 94, 24, 23, 21, 34,\n",
       "         94, 44, 73, 94, 10, 28, 94, 32, 14, 21, 21, 94, 10, 28, 94, 14, 31, 14,\n",
       "         27, 34, 94, 12, 24, 21, 21, 14, 16, 14, 94, 28, 29, 30, 13, 14, 23, 29,\n",
       "         94, 24, 15, 94, 43, 10, 23, 16, 35, 17, 24, 30, 94, 39, 18, 10, 23, 35,\n",
       "         18, 94, 56, 23, 18, 31, 14, 27, 28, 18, 29, 34, 73, 94, 32, 18, 21, 21,\n",
       "         94, 21, 24, 31, 14, 94, 29, 17, 18, 28, 94, 12, 10, 22, 25, 30, 28, 94,\n",
       "         12, 10, 27, 13, 94, 31, 14, 27, 34, 94, 22, 30, 12, 17]),\n",
       " tensor([29, 14, 21, 21, 94, 22, 14, 94, 78, 29, 18, 22, 14, 94, 18, 28, 94, 22,\n",
       "         24, 23, 14, 34, 75, 18, 94, 28, 17, 24, 30, 21, 13, 94, 17, 10, 27, 13,\n",
       "         94, 29, 24, 94, 28, 29, 30, 13, 34, 73, 32, 17, 24, 94, 30, 28, 14, 94,\n",
       "         29, 17, 14, 94, 31, 10, 21, 30, 14, 94, 29, 18, 22, 14, 75, 96, 48, 34,\n",
       "         94, 15, 10, 31, 24, 27, 18, 29, 14, 94, 16, 10, 13, 16, 14, 29, 94, 18,\n",
       "         28, 94, 29, 17, 14, 94, 12, 10, 22, 25, 30, 28, 94, 12, 10, 27, 13, 73,\n",
       "         94, 17, 14, 94, 17, 10, 28, 94, 29, 17, 14, 94, 15, 24, 21, 21, 24, 32,\n",
       "         18, 23, 16, 94, 15, 30, 23, 12, 29, 18, 24, 23, 28, 77, 94, 15, 18, 27,\n",
       "         28, 29, 94, 24, 15, 94, 10, 21, 21, 73, 94, 17, 14, 94, 12, 10, 23, 94,\n",
       "         21, 14, 29, 94, 29, 17, 14, 94, 11, 14, 13, 27, 24, 24, 22, 94, 13, 24,\n",
       "         32, 23, 28, 29, 10, 18, 27, 28, 94, 13, 24, 24, 27, 94, 15, 24, 27, 94,\n",
       "         22, 14, 94, 29, 24, 94, 24, 25, 14, 23, 73, 94, 28, 14, 12, 24, 23, 13,\n",
       "         73, 94, 17, 14, 94, 12, 10, 23, 94, 27, 30, 23, 94, 18, 23, 94, 29, 17,\n",
       "         14, 94, 28, 30, 23, 94, 12, 27, 14, 13, 18, 29, 94, 12, 10, 27, 13, 73,\n",
       "         94, 22, 24, 27, 14, 24, 31, 14, 27, 73, 94, 17, 14, 94, 12, 10, 23, 94,\n",
       "         21, 14, 29, 94, 22, 14, 94, 25, 10, 34, 94, 29, 17, 14, 94, 11, 18, 21,\n",
       "         21, 94, 18, 23, 94, 29, 17, 14, 94, 12, 10, 23, 29, 14, 14, 23, 94, 18,\n",
       "         28, 94, 31, 14, 27, 34, 94, 12, 24, 23, 31, 14, 23, 18, 14, 23, 29, 73,\n",
       "         94, 15, 18, 23, 10, 21, 21, 34, 73, 94, 17, 14, 94, 12, 10, 23, 94, 10,\n",
       "         21, 28, 24, 94, 11, 14, 94, 30, 28, 14, 13, 94, 10, 28, 94, 10, 94, 27,\n",
       "         30, 21, 14, 27, 94, 11, 34, 94, 22, 14, 75, 94, 44, 94, 11, 14, 21, 18,\n",
       "         14, 31, 14, 94, 29, 17, 10, 29, 94, 23, 24, 29, 94, 24, 23, 21, 34, 94,\n",
       "         44, 73, 94, 10, 28, 94, 32, 14, 21, 21, 94, 10, 28, 94, 14, 31, 14, 27,\n",
       "         34, 94, 12, 24, 21, 21, 14, 16, 14, 94, 28, 29, 30, 13, 14, 23, 29, 94,\n",
       "         24, 15, 94, 43, 10, 23, 16, 35, 17, 24, 30, 94, 39, 18, 10, 23, 35, 18,\n",
       "         94, 56, 23, 18, 31, 14, 27, 28, 18, 29, 34, 73, 94, 32, 18, 21, 21, 94,\n",
       "         21, 24, 31, 14, 94, 29, 17, 18, 28, 94, 12, 10, 22, 25, 30, 28, 94, 12,\n",
       "         10, 27, 13, 94, 31, 14, 27, 34, 94, 22, 30, 12, 17, 75]))"
      ]
     },
     "execution_count": 9,
     "metadata": {},
     "output_type": "execute_result"
    }
   ],
   "source": [
    "def random_training_set():\n",
    "    chunk = random_chunk()\n",
    "    inputs = char_tensor(chunk[:-1])\n",
    "    targets = char_tensor(chunk[1:]) #每个字符到后一个字符\n",
    "    return inputs, targets\n",
    "\n",
    "random_training_set()"
   ]
  },
  {
   "cell_type": "markdown",
   "metadata": {},
   "source": [
    "## 2. RNN模型\n",
    "\n",
    "利用PyTorch构建RNN模型类，内部包括Embedding层、LSTM、FC层"
   ]
  },
  {
   "cell_type": "code",
   "execution_count": 10,
   "metadata": {},
   "outputs": [],
   "source": [
    "''' 请在下方编写RNN模型类 '''\n",
    "\n",
    "class RNN(nn.Module):\n",
    "    def __init__(self, input_size, hidden_size, output_size, num_layers=1):\n",
    "        super(RNN, self).__init__()\n",
    "        \n",
    "        self.input_size=input_size\n",
    "        self.hidden_size=hidden_size\n",
    "        self.output_size=output_size\n",
    "        self.num_layers=num_layers\n",
    "        \n",
    "        self.embedding = nn.Embedding(num_embeddings=100, embedding_dim=input_size)\n",
    "        self.lstm = nn.LSTM(input_size=input_size, hidden_size=hidden_size)\n",
    "        self.fc = nn.Linear(in_features=hidden_size, out_features=output_size)\n",
    "        \n",
    "    def forward(self, inputs, hidden):\n",
    "        \n",
    "        o1=self.embedding(inputs.view(1,-1)) #转为2维[[]] 经过embedding后变成三维[[[]]]\n",
    "        o2,(h,c)=self.lstm(o1,hidden) #返回值是 output , (h,c)  \n",
    "        outputs=self.fc(o2) \n",
    "        hidden=(h,c)\n",
    "        \n",
    "        return outputs, hidden\n",
    "    \n",
    "    def init_hidden(self):\n",
    "        h0= Variable(torch.zeros(self.num_layers,1,self.hidden_size))#(1,1,100)\n",
    "        c0= Variable(torch.zeros(self.num_layers,1,self.hidden_size))\n",
    "        return h0, c0"
   ]
  },
  {
   "cell_type": "markdown",
   "metadata": {},
   "source": [
    "## 3. 训练函数"
   ]
  },
  {
   "cell_type": "code",
   "execution_count": 11,
   "metadata": {},
   "outputs": [],
   "source": [
    "def train(inputs, target):\n",
    "    h, c = rnn.init_hidden()\n",
    "    if use_gpu:\n",
    "        inputs = inputs.cuda()\n",
    "        target = target.cuda()\n",
    "        h, c = h.cuda(), c.cuda()\n",
    "    hidden = (h, c)\n",
    "    \n",
    "    loss = 0\n",
    "    for i in range(len(inputs)):\n",
    "        ''' 请在下方编写rnn模型输出，及loss累加代码'''\n",
    "        output,hidden=rnn.forward(inputs[i],hidden)\n",
    "\n",
    "        loss+=criterion(output.view(1,100),target[i].view(1))\n",
    "\n",
    "    optimizer.zero_grad()\n",
    "    loss.backward()\n",
    "    optimizer.step()\n",
    "    \n",
    "    return loss.data.item()/len(inputs)"
   ]
  },
  {
   "cell_type": "markdown",
   "metadata": {},
   "source": [
    "## 4. 文本生成测试函数"
   ]
  },
  {
   "cell_type": "code",
   "execution_count": 12,
   "metadata": {},
   "outputs": [],
   "source": [
    "def test(prime_str='A', predict_len=100, temperature=0.8):\n",
    "    h, c = rnn.init_hidden()\n",
    "    prime_input = char_tensor(prime_str)#'Th'\n",
    "\n",
    "    if use_gpu:\n",
    "        h, c = h.cuda(), c.cuda()\n",
    "        prime_input = prime_input.cuda()\n",
    "    predicted = prime_str\n",
    "    \n",
    "    for i in range(len(prime_str)-1):\n",
    "        _, (h, c) = rnn(prime_input[i], (h, c))\n",
    "    inputs = prime_input[-1]\n",
    "\n",
    "    for p in range(predict_len):\n",
    "        if use_gpu:\n",
    "            inputs = inputs.cuda()\n",
    "        output, (h, c) = rnn(inputs, (h, c))\n",
    "        output_dist = output.data.view(-1).div(temperature).exp()\n",
    "        top_i = torch.multinomial(output_dist, 1)[0]\n",
    "\n",
    "        predicted_char = all_characters[top_i]\n",
    "        predicted += predicted_char\n",
    "        inputs = char_tensor(predicted_char)\n",
    "    \n",
    "    return predicted"
   ]
  },
  {
   "cell_type": "markdown",
   "metadata": {},
   "source": [
    "## 5. 模型训练"
   ]
  },
  {
   "cell_type": "markdown",
   "metadata": {},
   "source": [
    "#### 超参数"
   ]
  },
  {
   "cell_type": "code",
   "execution_count": 13,
   "metadata": {},
   "outputs": [],
   "source": [
    "''' 请自行设定相关参数 '''\n",
    "epoch_num = 2000  # 1000~10000\n",
    "print_every = 100\n",
    "plot_every = 10\n",
    "hidden_size = 100\n",
    "num_layers = 1\n",
    "lr = 0.01"
   ]
  },
  {
   "cell_type": "markdown",
   "metadata": {},
   "source": [
    "#### 模型、优化器、损失函数"
   ]
  },
  {
   "cell_type": "code",
   "execution_count": 14,
   "metadata": {},
   "outputs": [
    {
     "name": "stdout",
     "output_type": "stream",
     "text": [
      "RNN(\n",
      "  (embedding): Embedding(100, 100)\n",
      "  (lstm): LSTM(100, 100)\n",
      "  (fc): Linear(in_features=100, out_features=100, bias=True)\n",
      ")\n"
     ]
    }
   ],
   "source": [
    "# RNN模型\n",
    "rnn = RNN(n_characters, hidden_size, n_characters, num_layers)\n",
    "if use_gpu:\n",
    "    rnn = rnn.cuda()\n",
    "print(rnn)"
   ]
  },
  {
   "cell_type": "code",
   "execution_count": 15,
   "metadata": {},
   "outputs": [
    {
     "name": "stdout",
     "output_type": "stream",
     "text": [
      "Adam (\n",
      "Parameter Group 0\n",
      "    amsgrad: False\n",
      "    betas: (0.9, 0.999)\n",
      "    eps: 1e-08\n",
      "    lr: 0.01\n",
      "    weight_decay: 0\n",
      ")\n",
      "CrossEntropyLoss()\n"
     ]
    }
   ],
   "source": [
    "# 优化器\n",
    "''' 请在下方编写Adam优化器定义的代码 '''\n",
    "optimizer = torch.optim.Adam(rnn.parameters(),lr=lr)\n",
    "print(optimizer)\n",
    "\n",
    "# 损失函数\n",
    "''' 请在下方编写交叉熵损失函数定义的代码 '''\n",
    "criterion = nn.CrossEntropyLoss()\n",
    "print(criterion)"
   ]
  },
  {
   "cell_type": "markdown",
   "metadata": {},
   "source": [
    "#### 模型训练"
   ]
  },
  {
   "cell_type": "code",
   "execution_count": 16,
   "metadata": {},
   "outputs": [
    {
     "name": "stdout",
     "output_type": "stream",
     "text": [
      "[Time: 21s  Epoch: 100 (5%)  Loss: 0.2153]\n",
      "The the campass hour bed by woorit droovent the study, her can let the campus card, he has the card, he cant suntecis very cond, he can let the can card, he should hard to study,whoo fullet me campus ca \n",
      "\n",
      "[Time: 42s  Epoch: 200 (10%)  Loss: 0.0951]\n",
      "Tho suntes as and pictures. I like it a lok. It's so cutell me ;tit made by wood,glass a present after I got a good score in an a run in the sun credit card, moreover, he can let the dit ellet me as a a \n",
      "\n",
      "[Time: 62s  Epoch: 300 (15%)  Loss: 0.0362]\n",
      "Thour to count time,the drit fell down from top ,after,5 munits it is dunk.When as time as a arrow shoot from a bow,my glass hour tell me ;time is money.i should hard to study,who use the value time.\n",
      "My \n",
      "\n",
      "[Time: 83s  Epoch: 400 (20%)  Loss: 0.0695]\n",
      "Thour to oney.i should hard to study,who use the value time.\n",
      "My favorite gadget is the campus card, he has the following functions: first of all, he can let me pay the bill in the canteen is very conven \n",
      "\n",
      "[Time: 104s  Epoch: 500 (25%)  Loss: 0.0241]\n",
      "Thevenient, finally, he can alsot fell down from top ,after,5 munits it is dunk.When as time as a arrow shoot from a bow,my glass hour tell me ;time is money.i should hard to study,who use the value tim \n",
      "\n",
      "[Time: 124s  Epoch: 600 (30%)  Loss: 0.0427]\n",
      "Thera. My mom bought it for me as a present after I got a good scoreit is easy to use, to exam. It's so cute! It is easy to use, to out.\n",
      "My favorite gadget is my glass hour.my glass hour tell me ;time i \n",
      "\n",
      "[Time: 145s  Epoch: 700 (35%)  Loss: 0.0200]\n",
      "Thour time as a arrow shoot from a bow,my glass hour tell me ;time is money.i should hard to study,who use the value time.\n",
      "My favorite gadget is my glass hour.my glass hour is baught from a big shop,it  \n",
      "\n",
      "[Time: 166s  Epoch: 800 (40%)  Loss: 0.0134]\n",
      "Thour top ,after,5 munits it is dunk.When as time as a arrow shoot from a bow,my glass hour tell me ;time is money.i should hard to study,who use the value time.\n",
      "My favorite gadget is the campus card, h \n",
      "\n",
      "[Time: 187s  Epoch: 900 (45%)  Loss: 0.0308]\n",
      "Thot nop,ass hour is baught from a big shop,it made by wood,glass and drit.looks very cute.i always use my little glasshour tell down from top ,after,5 munits it is dunk.When as time as a arrow shoot fr \n",
      "\n",
      "[Time: 208s  Epoch: 1000 (50%)  Loss: 0.0139]\n",
      "Throm top ,after,5 munits it is dunk.When as time as a arrow shoot from a bow,my glass hour tell me ;time is money.i should hard to study,who use the value time.\n",
      "My favorite gadget is the campus card, h \n",
      "\n",
      "[Time: 229s  Epoch: 1100 (55%)  Loss: 0.0185]\n",
      "The drit fell down from top ,after,5 munits it is dunk.When as time as a arrow shoot from a bow,my glass hour tell me ;time is money.i should hard to study,who use the value time.\n",
      "My favorite gadget is  \n",
      "\n",
      "[Time: 251s  Epoch: 1200 (60%)  Loss: 0.0230]\n",
      "ThMy fom a big shop,it made by wood,glass and drit.looks very cute.i always use my little glasshour to count time,the drit fell down from top ,after, seavorur My mollow,is very conversi as a presery con \n",
      "\n",
      "[Time: 271s  Epoch: 1300 (65%)  Loss: 0.0127]\n",
      "The drit fell down from top ,after,5 munits it is dunk.When as time as a arrow shoot from a bow,my glass hour tell me ;time is money.i should hard to study,who use the value time.\n",
      "My favorite gadget is  \n",
      "\n",
      "[Time: 292s  Epoch: 1400 (70%)  Loss: 0.0466]\n",
      "Thst from a big shop,it made by wood,glass and drit.looks very cute.i always use my little glasshour to count time,the drit fell down functions: first of all, he can let the bedroom downstairs door for  \n",
      "\n",
      "[Time: 313s  Epoch: 1500 (75%)  Loss: 0.0049]\n",
      "Thoot from a bow,my glass hour tell me ;time is money.i should hard to study,who use the value time.\n",
      "My favorite gadget is the campus card, he has the following functions: first of all, he can let the b \n",
      "\n",
      "[Time: 333s  Epoch: 1600 (80%)  Loss: 0.0311]\n",
      "Thoore in an exam. It's so cute! It is easy to use, too. I use it to print out exercises and pictures. I like it a lot.\n",
      "My favorite gadget is my glass hour.my glass hour is baught from a big shop,it mad \n",
      "\n",
      "[Time: 354s  Epoch: 1700 (85%)  Loss: 0.0140]\n",
      "Thevericute time,the drit fell down from top ,after,5 munits it is dunk.When as time as a arrow shoot from a bow,my glass hour tell me ;time is money.i should hard to study,who use the value time.\n",
      "My fa \n",
      "\n",
      "[Time: 375s  Epoch: 1800 (90%)  Loss: 0.0114]\n",
      "Thto use, too. I use it to print out exercises and pictures. I like it a lot.\n",
      "My favorite gadget is my mini printer. It looks like a camera. My mom bought it for me as a present after I got a good score \n",
      "\n",
      "[Time: 396s  Epoch: 1900 (95%)  Loss: 0.0156]\n",
      "Thstud to study,who use the value time.\n",
      "My favorite gadget is the campus card, he has the following functions: first of all, he can let the bedroom downstairs door for me to open, second, he can run in  \n",
      "\n",
      "[Time: 417s  Epoch: 2000 (100%)  Loss: 0.0129]\n",
      "Thour is baught from a big shop,it made by wood,glass and drit.looks very cute.i always use my little glasshour to count time,the drit fell down from top ,after,5 munits it is dunk.When as time as a arr \n",
      "\n"
     ]
    }
   ],
   "source": [
    "time_start = time.time()\n",
    "evaluate = True  # 可设置为False，训练过程中不评估\n",
    "loss_list = []\n",
    "loss_avg = 0\n",
    "\n",
    "for epoch in range(1, epoch_num+1):\n",
    "    inputs, targets = random_training_set()\n",
    "    loss = train(inputs, targets)\n",
    "    loss_avg += loss\n",
    "    \n",
    "    if epoch % print_every == 0:\n",
    "        print('[Time: %ds  Epoch: %d (%d%%)  Loss: %.4f]'%(int(time.time()-time_start), epoch, epoch/epoch_num*100, loss))\n",
    "        if evaluate:\n",
    "            pred_text = test('Th', 200)\n",
    "            print(pred_text, '\\n')\n",
    "        \n",
    "    if epoch % plot_every == 0:\n",
    "        loss_list.append(loss_avg/plot_every)\n",
    "        loss_avg = 0\n",
    "# #保存模型\n",
    "# torch.load(rnn,'rnn.pkl')"
   ]
  },
  {
   "cell_type": "markdown",
   "metadata": {},
   "source": [
    "## 6. 训练Loss曲线\n",
    "\n",
    "绘制训练过程中的Loss曲线"
   ]
  },
  {
   "cell_type": "code",
   "execution_count": 17,
   "metadata": {},
   "outputs": [
    {
     "data": {
      "image/png": "[encoded data removed]",
      "text/plain": [
       "<Figure size 864x504 with 1 Axes>"
      ]
     },
     "metadata": {
      "needs_background": "light"
     },
     "output_type": "display_data"
    }
   ],
   "source": [
    "plt.figure(figsize=(12, 7))\n",
    "plt.plot(loss_list)\n",
    "plt.title('Train Loss', fontsize=18)\n",
    "plt.xlabel('Epoch', fontsize=16)\n",
    "plt.ylabel('Loss', fontsize=16)\n",
    "plt.xticks(fontsize=12)\n",
    "plt.yticks(fontsize=12)\n",
    "plt.grid()"
   ]
  },
  {
   "cell_type": "markdown",
   "metadata": {},
   "source": [
    "## 7. 测试\n",
    "\n",
    "自定义初始字符和文本长度以生成文本"
   ]
  },
  {
   "cell_type": "code",
   "execution_count": 19,
   "metadata": {},
   "outputs": [
    {
     "name": "stdout",
     "output_type": "stream",
     "text": [
      "My favorite gadget is my glass hour.my glass hour is baught from a big shop,it made by wood,glass and drit.looks very cute.i always use my little glasshour to count time,the drit fell down from top ,after,5 munits it is dunk.When as time as a arrow shoot from a bow,my glass hour tell me ;time is money.i should hard to study,who use the value time.\n",
      "My favorite gadget is the campus card, he has the following functions: first of all, he can let the bedroom downstairs door for me to open, second, he can run in the sun credit card, moreover, he can let me pay the bill in the canteen is very convenient, finally, he can also be used as a ruler by me. I believe that not only I, as well as every college student of Hangzhou Dianzi University, will love this campus card, he has the following functions: first of all, he can let the bedroom downstairs door for me to open, second, he can run in the sun credit card, moreover, he can let me pay the bill in the canteen is very convenient, finally, he can\n"
     ]
    }
   ],
   "source": [
    "test_text = test('My', 1000, 0.8)\n",
    "print(test_text)"
   ]
  },
  {
   "cell_type": "code",
   "execution_count": 16,
   "metadata": {},
   "outputs": [],
   "source": [
    "# test_text = test('Wh', 1000, 0.8)\n",
    "# print(test_text)"
   ]
  }
 ],
 "metadata": {
  "kernelspec": {
   "display_name": "Python 3",
   "language": "python",
   "name": "python3"
  },
  "language_info": {
   "codemirror_mode": {
    "name": "ipython",
    "version": 3
   },
   "file_extension": ".py",
   "mimetype": "text/x-python",
   "name": "python",
   "nbconvert_exporter": "python",
   "pygments_lexer": "ipython3",
   "version": "3.8.3"
  },
  "toc": {
   "base_numbering": 1,
   "nav_menu": {},
   "number_sections": true,
   "sideBar": true,
   "skip_h1_title": false,
   "title_cell": "Table of Contents",
   "title_sidebar": "Contents",
   "toc_cell": false,
   "toc_position": {},
   "toc_section_display": true,
   "toc_window_display": false
  }
 },
 "nbformat": 4,
 "nbformat_minor": 2
}
